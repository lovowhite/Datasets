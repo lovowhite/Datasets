{
  "cells": [
    {
      "cell_type": "code",
      "execution_count": null,
      "metadata": {
        "id": "X0Y_wB9cn5RH"
      },
      "outputs": [],
      "source": [
        "# %tensorflow_version 1.x"
      ]
    },
    {
      "cell_type": "code",
      "execution_count": null,
      "metadata": {
        "id": "sxHIDa1iMshM"
      },
      "outputs": [],
      "source": [
        "# !pip uninstall h5py\n",
        "# !pip install h5py==2.10.0"
      ]
    },
    {
      "cell_type": "code",
      "execution_count": null,
      "metadata": {
        "colab": {
          "base_uri": "https://localhost:8080/"
        },
        "id": "svRhrd49gn1P",
        "outputId": "6a66879e-2108-49cd-e6ba-eb281c4c6c78"
      },
      "outputs": [
        {
          "name": "stdout",
          "output_type": "stream",
          "text": [
            "Mounted at /content/drive\n"
          ]
        }
      ],
      "source": [
        "from google.colab import drive\n",
        "drive.mount('/content/drive')"
      ]
    },
    {
      "cell_type": "code",
      "execution_count": null,
      "metadata": {
        "id": "xBQrRL3EoBtq"
      },
      "outputs": [],
      "source": [
        "import pandas as pd\n",
        "import numpy as np\n",
        "from sklearn.model_selection import train_test_split\n",
        "import cv2\n",
        "import keras\n"
      ]
    },
    {
      "cell_type": "code",
      "execution_count": null,
      "metadata": {
        "id": "luzCVXORnXEw"
      },
      "outputs": [],
      "source": [
        "path_org = 'drive/MyDrive/DATA_SETS/full_org'\n",
        "path_forg = 'drive/MyDrive/DATA_SETS/full_forg'\n",
        "count_of_persons = 55\n",
        "number_of_samples = 24\n",
        "\n",
        "def create_df():\n",
        "  fake_sign = []\n",
        "  for i in range(1,56):\n",
        "    for j in range(1,number_of_samples+1):\n",
        "      path = (path_forg+'/forgeries_'+str(i)+'_'+str(j)+'.png')\n",
        "      fake_sign.append(path)\n",
        "\n",
        "  real_sign = []\n",
        "  for i in range(1,56):\n",
        "    for j in range(1,number_of_samples+1):\n",
        "      path = (path_org+'/original_'+str(i)+'_'+str(j)+'.png')\n",
        "      real_sign.append(path)\n",
        "\n",
        "  raw_data = {\"sign_1\":[], \"sign_2\":[], \"label\":[]}\n",
        "  for i in range(count_of_persons):\n",
        "    real_signs_1=[]\n",
        "    real_signs_2=[]\n",
        "    fake_signs_1=[]\n",
        "\n",
        "    ind_start = i*24\n",
        "    ind_end = (i+1)*24\n",
        "\n",
        "    for sample in range(ind_start,ind_end):\n",
        "      real_signs_1.append(real_sign[sample])\n",
        "      real_signs_2.append(real_sign[sample])\n",
        "      raw_data[\"label\"].append(1)\n",
        "\n",
        "    real_signs_1.extend(real_signs_2)\n",
        "\n",
        "    for sign in real_signs_2:\n",
        "      fake_signs_1.append(sign)\n",
        "\n",
        "    for j in range(ind_start,ind_end):\n",
        "      fake_signs_1.append(fake_sign[j])\n",
        "      raw_data[\"label\"].append(0)\n",
        "\n",
        "    raw_data[\"sign_1\"].extend(real_signs_1) #real-real pairs\n",
        "    raw_data[\"sign_2\"].extend(fake_signs_1)\n",
        "\n",
        "  df = pd.DataFrame(raw_data, columns = [\"sign_1\",\"sign_2\",\"label\"])\n",
        "  return df"
      ]
    },
    {
      "cell_type": "markdown",
      "metadata": {
        "id": "dJTueuSYMFuG"
      },
      "source": [
        "drive/MyDrive/ML PROJECT/full_forg/forgeries_1..."
      ]
    },
    {
      "cell_type": "code",
      "execution_count": null,
      "metadata": {
        "colab": {
          "base_uri": "https://localhost:8080/",
          "height": 175
        },
        "id": "2spYLkpknZvA",
        "outputId": "de35de2e-e1ed-4520-b781-f286142f7bb3"
      },
      "outputs": [
        {
          "data": {
            "text/html": [
              "\n",
              "\n",
              "  <div id=\"df-bad70b6f-0656-45f1-bbdb-790931ab796d\">\n",
              "    <div class=\"colab-df-container\">\n",
              "      <div>\n",
              "<style scoped>\n",
              "    .dataframe tbody tr th:only-of-type {\n",
              "        vertical-align: middle;\n",
              "    }\n",
              "\n",
              "    .dataframe tbody tr th {\n",
              "        vertical-align: top;\n",
              "    }\n",
              "\n",
              "    .dataframe thead th {\n",
              "        text-align: right;\n",
              "    }\n",
              "</style>\n",
              "<table border=\"1\" class=\"dataframe\">\n",
              "  <thead>\n",
              "    <tr style=\"text-align: right;\">\n",
              "      <th></th>\n",
              "      <th>sign_1</th>\n",
              "      <th>sign_2</th>\n",
              "      <th>label</th>\n",
              "    </tr>\n",
              "  </thead>\n",
              "  <tbody>\n",
              "    <tr>\n",
              "      <th>22</th>\n",
              "      <td>drive/MyDrive/DATA_SETS/full_org/original_1_23...</td>\n",
              "      <td>drive/MyDrive/DATA_SETS/full_org/original_1_23...</td>\n",
              "      <td>1</td>\n",
              "    </tr>\n",
              "    <tr>\n",
              "      <th>23</th>\n",
              "      <td>drive/MyDrive/DATA_SETS/full_org/original_1_24...</td>\n",
              "      <td>drive/MyDrive/DATA_SETS/full_org/original_1_24...</td>\n",
              "      <td>1</td>\n",
              "    </tr>\n",
              "    <tr>\n",
              "      <th>24</th>\n",
              "      <td>drive/MyDrive/DATA_SETS/full_org/original_1_1.png</td>\n",
              "      <td>drive/MyDrive/DATA_SETS/full_forg/forgeries_1_...</td>\n",
              "      <td>0</td>\n",
              "    </tr>\n",
              "    <tr>\n",
              "      <th>25</th>\n",
              "      <td>drive/MyDrive/DATA_SETS/full_org/original_1_2.png</td>\n",
              "      <td>drive/MyDrive/DATA_SETS/full_forg/forgeries_1_...</td>\n",
              "      <td>0</td>\n",
              "    </tr>\n",
              "  </tbody>\n",
              "</table>\n",
              "</div>\n",
              "      <button class=\"colab-df-convert\" onclick=\"convertToInteractive('df-bad70b6f-0656-45f1-bbdb-790931ab796d')\"\n",
              "              title=\"Convert this dataframe to an interactive table.\"\n",
              "              style=\"display:none;\">\n",
              "\n",
              "  <svg xmlns=\"http://www.w3.org/2000/svg\" height=\"24px\"viewBox=\"0 0 24 24\"\n",
              "       width=\"24px\">\n",
              "    <path d=\"M0 0h24v24H0V0z\" fill=\"none\"/>\n",
              "    <path d=\"M18.56 5.44l.94 2.06.94-2.06 2.06-.94-2.06-.94-.94-2.06-.94 2.06-2.06.94zm-11 1L8.5 8.5l.94-2.06 2.06-.94-2.06-.94L8.5 2.5l-.94 2.06-2.06.94zm10 10l.94 2.06.94-2.06 2.06-.94-2.06-.94-.94-2.06-.94 2.06-2.06.94z\"/><path d=\"M17.41 7.96l-1.37-1.37c-.4-.4-.92-.59-1.43-.59-.52 0-1.04.2-1.43.59L10.3 9.45l-7.72 7.72c-.78.78-.78 2.05 0 2.83L4 21.41c.39.39.9.59 1.41.59.51 0 1.02-.2 1.41-.59l7.78-7.78 2.81-2.81c.8-.78.8-2.07 0-2.86zM5.41 20L4 18.59l7.72-7.72 1.47 1.35L5.41 20z\"/>\n",
              "  </svg>\n",
              "      </button>\n",
              "\n",
              "\n",
              "\n",
              "    <div id=\"df-dc29880d-8685-43df-8332-f7f69af637b0\">\n",
              "      <button class=\"colab-df-quickchart\" onclick=\"quickchart('df-dc29880d-8685-43df-8332-f7f69af637b0')\"\n",
              "              title=\"Suggest charts.\"\n",
              "              style=\"display:none;\">\n",
              "\n",
              "<svg xmlns=\"http://www.w3.org/2000/svg\" height=\"24px\"viewBox=\"0 0 24 24\"\n",
              "     width=\"24px\">\n",
              "    <g>\n",
              "        <path d=\"M19 3H5c-1.1 0-2 .9-2 2v14c0 1.1.9 2 2 2h14c1.1 0 2-.9 2-2V5c0-1.1-.9-2-2-2zM9 17H7v-7h2v7zm4 0h-2V7h2v10zm4 0h-2v-4h2v4z\"/>\n",
              "    </g>\n",
              "</svg>\n",
              "      </button>\n",
              "    </div>\n",
              "\n",
              "<style>\n",
              "  .colab-df-quickchart {\n",
              "    background-color: #E8F0FE;\n",
              "    border: none;\n",
              "    border-radius: 50%;\n",
              "    cursor: pointer;\n",
              "    display: none;\n",
              "    fill: #1967D2;\n",
              "    height: 32px;\n",
              "    padding: 0 0 0 0;\n",
              "    width: 32px;\n",
              "  }\n",
              "\n",
              "  .colab-df-quickchart:hover {\n",
              "    background-color: #E2EBFA;\n",
              "    box-shadow: 0px 1px 2px rgba(60, 64, 67, 0.3), 0px 1px 3px 1px rgba(60, 64, 67, 0.15);\n",
              "    fill: #174EA6;\n",
              "  }\n",
              "\n",
              "  [theme=dark] .colab-df-quickchart {\n",
              "    background-color: #3B4455;\n",
              "    fill: #D2E3FC;\n",
              "  }\n",
              "\n",
              "  [theme=dark] .colab-df-quickchart:hover {\n",
              "    background-color: #434B5C;\n",
              "    box-shadow: 0px 1px 3px 1px rgba(0, 0, 0, 0.15);\n",
              "    filter: drop-shadow(0px 1px 2px rgba(0, 0, 0, 0.3));\n",
              "    fill: #FFFFFF;\n",
              "  }\n",
              "</style>\n",
              "\n",
              "    <script>\n",
              "      async function quickchart(key) {\n",
              "        const containerElement = document.querySelector('#' + key);\n",
              "        const charts = await google.colab.kernel.invokeFunction(\n",
              "            'suggestCharts', [key], {});\n",
              "      }\n",
              "    </script>\n",
              "\n",
              "      <script>\n",
              "\n",
              "function displayQuickchartButton(domScope) {\n",
              "  let quickchartButtonEl =\n",
              "    domScope.querySelector('#df-dc29880d-8685-43df-8332-f7f69af637b0 button.colab-df-quickchart');\n",
              "  quickchartButtonEl.style.display =\n",
              "    google.colab.kernel.accessAllowed ? 'block' : 'none';\n",
              "}\n",
              "\n",
              "        displayQuickchartButton(document);\n",
              "      </script>\n",
              "      <style>\n",
              "    .colab-df-container {\n",
              "      display:flex;\n",
              "      flex-wrap:wrap;\n",
              "      gap: 12px;\n",
              "    }\n",
              "\n",
              "    .colab-df-convert {\n",
              "      background-color: #E8F0FE;\n",
              "      border: none;\n",
              "      border-radius: 50%;\n",
              "      cursor: pointer;\n",
              "      display: none;\n",
              "      fill: #1967D2;\n",
              "      height: 32px;\n",
              "      padding: 0 0 0 0;\n",
              "      width: 32px;\n",
              "    }\n",
              "\n",
              "    .colab-df-convert:hover {\n",
              "      background-color: #E2EBFA;\n",
              "      box-shadow: 0px 1px 2px rgba(60, 64, 67, 0.3), 0px 1px 3px 1px rgba(60, 64, 67, 0.15);\n",
              "      fill: #174EA6;\n",
              "    }\n",
              "\n",
              "    [theme=dark] .colab-df-convert {\n",
              "      background-color: #3B4455;\n",
              "      fill: #D2E3FC;\n",
              "    }\n",
              "\n",
              "    [theme=dark] .colab-df-convert:hover {\n",
              "      background-color: #434B5C;\n",
              "      box-shadow: 0px 1px 3px 1px rgba(0, 0, 0, 0.15);\n",
              "      filter: drop-shadow(0px 1px 2px rgba(0, 0, 0, 0.3));\n",
              "      fill: #FFFFFF;\n",
              "    }\n",
              "  </style>\n",
              "\n",
              "      <script>\n",
              "        const buttonEl =\n",
              "          document.querySelector('#df-bad70b6f-0656-45f1-bbdb-790931ab796d button.colab-df-convert');\n",
              "        buttonEl.style.display =\n",
              "          google.colab.kernel.accessAllowed ? 'block' : 'none';\n",
              "\n",
              "        async function convertToInteractive(key) {\n",
              "          const element = document.querySelector('#df-bad70b6f-0656-45f1-bbdb-790931ab796d');\n",
              "          const dataTable =\n",
              "            await google.colab.kernel.invokeFunction('convertToInteractive',\n",
              "                                                     [key], {});\n",
              "          if (!dataTable) return;\n",
              "\n",
              "          const docLinkHtml = 'Like what you see? Visit the ' +\n",
              "            '<a target=\"_blank\" href=https://colab.research.google.com/notebooks/data_table.ipynb>data table notebook</a>'\n",
              "            + ' to learn more about interactive tables.';\n",
              "          element.innerHTML = '';\n",
              "          dataTable['output_type'] = 'display_data';\n",
              "          await google.colab.output.renderOutput(dataTable, element);\n",
              "          const docLink = document.createElement('div');\n",
              "          docLink.innerHTML = docLinkHtml;\n",
              "          element.appendChild(docLink);\n",
              "        }\n",
              "      </script>\n",
              "    </div>\n",
              "  </div>\n"
            ],
            "text/plain": [
              "                                               sign_1  \\\n",
              "22  drive/MyDrive/DATA_SETS/full_org/original_1_23...   \n",
              "23  drive/MyDrive/DATA_SETS/full_org/original_1_24...   \n",
              "24  drive/MyDrive/DATA_SETS/full_org/original_1_1.png   \n",
              "25  drive/MyDrive/DATA_SETS/full_org/original_1_2.png   \n",
              "\n",
              "                                               sign_2  label  \n",
              "22  drive/MyDrive/DATA_SETS/full_org/original_1_23...      1  \n",
              "23  drive/MyDrive/DATA_SETS/full_org/original_1_24...      1  \n",
              "24  drive/MyDrive/DATA_SETS/full_forg/forgeries_1_...      0  \n",
              "25  drive/MyDrive/DATA_SETS/full_forg/forgeries_1_...      0  "
            ]
          },
          "execution_count": 6,
          "metadata": {},
          "output_type": "execute_result"
        }
      ],
      "source": [
        "df = create_df()\n",
        "df[22:26]"
      ]
    },
    {
      "cell_type": "code",
      "execution_count": null,
      "metadata": {
        "colab": {
          "base_uri": "https://localhost:8080/"
        },
        "id": "TYOw6u9npTVK",
        "outputId": "667fa8ae-b0e2-40a7-ae8c-60598c6490c1"
      },
      "outputs": [
        {
          "name": "stdout",
          "output_type": "stream",
          "text": [
            "(2640, 3)\n",
            "5544 2376\n"
          ]
        }
      ],
      "source": [
        "def train_test_dataset():\n",
        "  data_frame = create_df()\n",
        "  print(data_frame.shape)\n",
        "  data_frame=data_frame.reindex(np.random.permutation(data_frame.index))\n",
        "  train_set, test_set = train_test_split(data_frame,test_size=0.3,random_state=0)\n",
        "\n",
        "  return train_set, test_set\n",
        "\n",
        "train_set,test_set = train_test_dataset()\n",
        "print(train_set.size, test_set.size)\n",
        "\n"
      ]
    },
    {
      "cell_type": "code",
      "execution_count": null,
      "metadata": {
        "id": "A7zPjeBSrGbk"
      },
      "outputs": [],
      "source": [
        "class SignatureSequence(keras.utils.Sequence):\n",
        "\n",
        "    def __init__(self, df, batch_size, dim):\n",
        "        self.dim = dim\n",
        "        self.batch_size = batch_size\n",
        "        self.df = df\n",
        "        self.labels = df[\"label\"]\n",
        "        self.on_epoch_end()\n",
        "\n",
        "\n",
        "    def __len__(self):\n",
        "        s_df=self.df.shape[0]\n",
        "        n=np.floor(s_df/self.batch_size)\n",
        "        return int(n)\n",
        "\n",
        "    def __getitem__(self, indis):\n",
        "         #indexes\n",
        "        batches = self.indises[indis*self.batch_size:(indis+1)*self.batch_size]\n",
        "        items = [self.df.iloc[k] for k in batches]\n",
        "        part1,part2 = self.generator(items)\n",
        "        return part1,part2\n",
        "\n",
        "    # call at the end of each epoch, randomize indices\n",
        "    def on_epoch_end(self):\n",
        "        self.indises = np.arange(self.df.shape[0])\n",
        "        np.random.shuffle(self.indises)\n",
        "\n",
        "\n",
        "    def generator(self, items):\n",
        "        part_1 = np.empty((self.batch_size, *self.dim,1))#working with gray images\n",
        "        part_2 = np.empty((self.batch_size, *self.dim,1))#working with gray images\n",
        "        label = np.empty((self.batch_size), dtype=float)\n",
        "\n",
        "        for i in range(len(items)):\n",
        "            signature_1 = cv2.imread(items[i][\"sign_1\"])\n",
        "            resized_signature = cv2.resize(signature_1,(220,155))\n",
        "            gray_signature=cv2.cvtColor(resized_signature, cv2.COLOR_BGR2GRAY)\n",
        "            ret,thr_img = cv2.threshold(gray_signature, 0, 255, cv2.THRESH_OTSU)\n",
        "            normalized_signature=thr_img/255\n",
        "            signature_expanded = normalized_signature[:, :, np.newaxis]\n",
        "            signature_1=np.array(signature_expanded)\n",
        "\n",
        "            signature_2 = cv2.imread(items[i][\"sign_2\"])\n",
        "            resized_signature = cv2.resize(signature_2,(220,155))\n",
        "            gray_signature=cv2.cvtColor(resized_signature, cv2.COLOR_BGR2GRAY)\n",
        "            ret,thr_img = cv2.threshold(gray_signature, 0, 255, cv2.THRESH_OTSU)\n",
        "            normalized_signature=thr_img/255\n",
        "            signature_expanded = normalized_signature[:, :, np.newaxis]\n",
        "            signature_2=np.array(signature_expanded)\n",
        "\n",
        "            label[i] = items[i][\"label\"]\n",
        "            part_1[i,] = signature_1\n",
        "            part_2[i,] = signature_2\n",
        "            y=label\n",
        "            tf.cast(y, tf.float32)\n",
        "            x=[part_1 ,part_2]\n",
        "        return x, y\n",
        "\n",
        "\n",
        "\n"
      ]
    },
    {
      "cell_type": "code",
      "execution_count": null,
      "metadata": {
        "id": "_tw0pg5U847J"
      },
      "outputs": [],
      "source": [
        "dim=(155,220)\n",
        "batch_size=64\n",
        "data_train = SignatureSequence(train_set,batch_size,dim)\n",
        "data_validation = SignatureSequence(test_set,batch_size,dim)"
      ]
    },
    {
      "cell_type": "markdown",
      "metadata": {
        "id": "gyoTBi4u89ol"
      },
      "source": [
        "# Model"
      ]
    },
    {
      "cell_type": "code",
      "execution_count": null,
      "metadata": {
        "id": "9Mk0u3uVsamX"
      },
      "outputs": [],
      "source": [
        "from keras import models\n",
        "from keras.layers import Conv2D, MaxPooling2D, Dense, Activation, BatchNormalization, Input, Dropout, Flatten\n",
        "from keras.models import Model\n",
        "from keras.models import Sequential\n",
        "from keras.layers import Lambda\n",
        "\n",
        "\n",
        "def network_model():\n",
        "  input_shape=(155,220,1)\n",
        "  in_imgLeft = Input(shape=input_shape, name=\"left_image\")\n",
        "  in_imgRight = Input(shape=input_shape, name=\"right_image\")\n",
        "\n",
        "  model = Sequential()\n",
        "  #1st Conv layer\n",
        "  model.add(Conv2D(32, (3, 3), activation=\"relu\", input_shape=input_shape))\n",
        "  model.add( MaxPooling2D(pool_size=(3,3)) )\n",
        "  #2nd Conv layer\n",
        "  model.add( Conv2D(64, (3, 3), activation=\"relu\") )\n",
        "  model.add( MaxPooling2D(pool_size=(3,3),strides=(2,2)) )\n",
        "\n",
        "  #3rd Conv layer\n",
        "  model.add( Conv2D(128, (3, 3), activation=\"relu\") )\n",
        "  #4st Conv layer\n",
        "  model.add( Conv2D(64, (3, 3), activation=\"relu\") )\n",
        "  #5st Conv layer\n",
        "  model.add( Conv2D(128, (3, 3), activation=\"relu\") )\n",
        "\n",
        "  model.add( MaxPooling2D(pool_size=(3,3),strides=(2,2)) )\n",
        "\n",
        "  model.add( Dropout(0.3) )\n",
        "  #Fully Connected Layer\n",
        "  model.add( Flatten() )\n",
        "\n",
        "  model.add( Dense(256, activation=\"relu\") )\n",
        "  model.add( Dropout(0.5) )\n",
        "\n",
        "  model.add( Dense(256, activation=\"relu\") )\n",
        "\n",
        "\n",
        "  left_branch = model(in_imgLeft)\n",
        "  right_branch = model(in_imgRight)\n",
        "\n",
        "  cal = Lambda(euclidean_distance,output_shape=output_shape)\n",
        "  distance=cal([left_branch, right_branch])\n",
        "\n",
        "  model = Model([in_imgLeft, in_imgRight], distance)\n",
        "  return model\n"
      ]
    },
    {
      "cell_type": "code",
      "execution_count": null,
      "metadata": {
        "id": "HCtckLxD9KGj"
      },
      "outputs": [],
      "source": [
        "from keras import backend as K\n",
        "\n",
        "def euclidean_distance(vectors):\n",
        "    xi, yi = vectors\n",
        "    return K.sqrt(K.sum(K.square(xi - yi), axis=1, keepdims=True))\n",
        "\n",
        "def output_shape(shapes):\n",
        "    shape1, shape2 = shapes\n",
        "    return (shape1[0], 1)\n",
        "\n",
        "def contrastive_loss(l , y_pred):\n",
        "    margin = 1\n",
        "    margin_square = (K.maximum(margin - y_pred, 0))**2\n",
        "    return K.mean((l * (y_pred)**2)*l + (1 - l)* margin_square)\n",
        "\n",
        "\n",
        "def accuracy(y_true, y_pred):\n",
        "    casted_ytrue=K.cast(y_pred < 0.5, 'float32')\n",
        "    return K.mean(K.equal(y_true,casted_ytrue ))"
      ]
    },
    {
      "cell_type": "code",
      "execution_count": null,
      "metadata": {
        "id": "xwjehp-1uZmE"
      },
      "outputs": [],
      "source": [
        "from keras.callbacks import ModelCheckpoint\n",
        "import tensorflow\n",
        "import tensorflow as tf\n",
        "model = network_model()"
      ]
    },
    {
      "cell_type": "code",
      "execution_count": null,
      "metadata": {
        "colab": {
          "base_uri": "https://localhost:8080/"
        },
        "id": "e8DB9IlZuZja",
        "outputId": "6a7b81c3-c9b1-4b8d-f79c-56ce856e1a61"
      },
      "outputs": [
        {
          "name": "stdout",
          "output_type": "stream",
          "text": [
            "Model: \"model_6\"\n",
            "__________________________________________________________________________________________________\n",
            " Layer (type)                   Output Shape         Param #     Connected to                     \n",
            "==================================================================================================\n",
            " left_image (InputLayer)        [(None, 155, 220, 1  0           []                               \n",
            "                                )]                                                                \n",
            "                                                                                                  \n",
            " right_image (InputLayer)       [(None, 155, 220, 1  0           []                               \n",
            "                                )]                                                                \n",
            "                                                                                                  \n",
            " sequential_6 (Sequential)      (None, 256)          3714240     ['left_image[0][0]',             \n",
            "                                                                  'right_image[0][0]']            \n",
            "                                                                                                  \n",
            " lambda_6 (Lambda)              (None, 1)            0           ['sequential_6[0][0]',           \n",
            "                                                                  'sequential_6[1][0]']           \n",
            "                                                                                                  \n",
            "==================================================================================================\n",
            "Total params: 3,714,240\n",
            "Trainable params: 3,714,240\n",
            "Non-trainable params: 0\n",
            "__________________________________________________________________________________________________\n"
          ]
        }
      ],
      "source": [
        "model.summary()"
      ]
    },
    {
      "cell_type": "code",
      "execution_count": null,
      "metadata": {
        "id": "sxPcwPoFuZgP"
      },
      "outputs": [],
      "source": [
        "optimizer = keras.optimizers.RMSprop(learning_rate=1e-4, rho=0.9, epsilon=1e-08)"
      ]
    },
    {
      "cell_type": "code",
      "execution_count": null,
      "metadata": {
        "id": "9IS30e5CuZX3"
      },
      "outputs": [],
      "source": [
        "model.compile(loss=contrastive_loss, optimizer=optimizer,metrics=[accuracy])"
      ]
    },
    {
      "cell_type": "code",
      "execution_count": null,
      "metadata": {
        "colab": {
          "background_save": true,
          "base_uri": "https://localhost:8080/"
        },
        "id": "hnMUTNhzslM9",
        "outputId": "9b5de35f-6a11-478b-9bee-5f38b9048844"
      },
      "outputs": [
        {
          "name": "stdout",
          "output_type": "stream",
          "text": [
            "Epoch 1/20\n",
            "56/56 [==============================] - 521s 9s/step - loss: 0.2236 - accuracy: 0.6412\n",
            "Epoch 2/20\n",
            "56/56 [==============================] - 478s 8s/step - loss: 0.1694 - accuracy: 0.7492\n",
            "Epoch 3/20\n",
            "56/56 [==============================] - 487s 9s/step - loss: 0.1431 - accuracy: 0.7932\n",
            "Epoch 4/20\n",
            "56/56 [==============================] - 488s 8s/step - loss: 0.1250 - accuracy: 0.8287\n",
            "Epoch 5/20\n",
            "56/56 [==============================] - 488s 8s/step - loss: 0.1100 - accuracy: 0.8507\n",
            "Epoch 6/20\n",
            "56/56 [==============================] - 497s 9s/step - loss: 0.0974 - accuracy: 0.8644\n",
            "Epoch 7/20\n",
            "56/56 [==============================] - 481s 8s/step - loss: 0.0870 - accuracy: 0.8845\n",
            "Epoch 8/20\n",
            "56/56 [==============================] - 472s 8s/step - loss: 0.0772 - accuracy: 0.8998\n",
            "Epoch 9/20\n",
            "56/56 [==============================] - 476s 8s/step - loss: 0.0680 - accuracy: 0.9166\n",
            "Epoch 10/20\n",
            "56/56 [==============================] - 475s 8s/step - loss: 0.0638 - accuracy: 0.9233\n",
            "Epoch 11/20\n",
            "56/56 [==============================] - 478s 8s/step - loss: 0.0540 - accuracy: 0.9386\n",
            "Epoch 12/20\n",
            "56/56 [==============================] - 487s 9s/step - loss: 0.0515 - accuracy: 0.9439\n",
            "Epoch 13/20\n",
            "56/56 [==============================] - 492s 9s/step - loss: 0.0486 - accuracy: 0.9425\n",
            "Epoch 14/20\n",
            "56/56 [==============================] - 487s 8s/step - loss: 0.0427 - accuracy: 0.9576\n",
            "Epoch 15/20\n",
            "56/56 [==============================] - 493s 8s/step - loss: 0.0402 - accuracy: 0.9593\n",
            "Epoch 16/20\n",
            "56/56 [==============================] - 483s 8s/step - loss: 0.0353 - accuracy: 0.9668\n",
            "Epoch 17/20\n",
            "56/56 [==============================] - 485s 8s/step - loss: 0.0345 - accuracy: 0.9671\n",
            "Epoch 18/20\n",
            "56/56 [==============================] - 491s 9s/step - loss: 0.0304 - accuracy: 0.9738\n",
            "Epoch 19/20\n",
            " 1/56 [..............................] - ETA: 19:40 - loss: 0.0272 - accuracy: 0.9844"
          ]
        }
      ],
      "source": [
        "# history=model.fit_generator(generator=data_train,validation_data=data_validation, epochs=20,\n",
        "#                             steps_per_epoch=56, validation_steps=24, use_multiprocessing=True,\n",
        "#                             workers=6)\n",
        "\n",
        "history=model.fit(data_train, epochs=20,\n",
        "                            steps_per_epoch=56, validation_steps=24, use_multiprocessing=True,\n",
        "                            workers=6)"
      ]
    },
    {
      "cell_type": "code",
      "execution_count": null,
      "metadata": {
        "id": "7VHeHyI0fdRg"
      },
      "outputs": [],
      "source": [
        "model.save(\"drive/MyDrive/DATA_SETS/Offline_Sign_model.h5\")"
      ]
    },
    {
      "cell_type": "code",
      "execution_count": null,
      "metadata": {
        "colab": {
          "base_uri": "https://localhost:8080/",
          "height": 301
        },
        "id": "DlUTxSsPzUG1",
        "outputId": "16f8e874-6c0e-48cf-9a30-ae1a1df90c19"
      },
      "outputs": [
        {
          "data": {
            "text/plain": [
              "<matplotlib.legend.Legend at 0x7fac767a3310>"
            ]
          },
          "execution_count": 81,
          "metadata": {},
          "output_type": "execute_result"
        },
        {
          "data": {
            "image/png": "[encoded data removed]",
            "text/plain": [
              "<Figure size 432x288 with 1 Axes>"
            ]
          },
          "metadata": {},
          "output_type": "display_data"
        }
      ],
      "source": [
        "import matplotlib.pyplot as plt\n",
        "\n",
        "plt.plot(history.history['accuracy'], label='accuracy')\n",
        "plt.plot(history.history['val_accuracy'], label = 'val_accuracy')\n",
        "plt.xlabel('Epoch')\n",
        "plt.ylabel('Accuracy')\n",
        "plt.ylim([0.5, 1])\n",
        "plt.legend(loc='lower right')"
      ]
    },
    {
      "cell_type": "code",
      "execution_count": null,
      "metadata": {
        "id": "o4nahMhqYba4"
      },
      "outputs": [],
      "source": [
        "test_loss, test_acc = model.evaluate(data_validation, verbose=2)"
      ]
    },
    {
      "cell_type": "code",
      "execution_count": null,
      "metadata": {
        "colab": {
          "base_uri": "https://localhost:8080/"
        },
        "id": "IW2u0_SJY765",
        "outputId": "6dd5aedd-540d-43d1-d308-a21763598819"
      },
      "outputs": [
        {
          "data": {
            "text/plain": [
              "0.042131245136260986"
            ]
          },
          "execution_count": 84,
          "metadata": {},
          "output_type": "execute_result"
        }
      ],
      "source": [
        "test_loss"
      ]
    },
    {
      "cell_type": "code",
      "execution_count": null,
      "metadata": {
        "colab": {
          "base_uri": "https://localhost:8080/"
        },
        "id": "yDrcS87tY-Kn",
        "outputId": "c1bbcf1d-a605-4733-aa2e-657d60b18a18"
      },
      "outputs": [
        {
          "data": {
            "text/plain": [
              "0.9049479365348816"
            ]
          },
          "execution_count": 85,
          "metadata": {},
          "output_type": "execute_result"
        }
      ],
      "source": [
        "test_acc"
      ]
    }
  ],
  "metadata": {
    "colab": {
      "provenance": []
    },
    "kernelspec": {
      "display_name": "Python 3",
      "name": "python3"
    },
    "language_info": {
      "name": "python"
    }
  },
  "nbformat": 4,
  "nbformat_minor": 0
}